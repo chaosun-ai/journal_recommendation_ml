{
 "cells": [
  {
   "cell_type": "code",
   "execution_count": 1,
   "metadata": {},
   "outputs": [],
   "source": [
    "import numpy as np\n",
    "from tensorflow.keras.models import load_model\n",
    "from joblib import load"
   ]
  },
  {
   "cell_type": "code",
   "execution_count": 2,
   "metadata": {},
   "outputs": [],
   "source": [
    "def journal_pred(paper_title, key_words):\n",
    "\n",
    "    input_text = [paper_title + key_words]\n",
    "    vectorizer = load('vectorizer.joblib')\n",
    "    input_x = vectorizer.transform(input_text)\n",
    "    input_x = input_x.todense()\n",
    "    \n",
    "    model = load_model('journal_mlp_model.h5')\n",
    "    y_pred = model.predict(input_x)\n",
    "    y_pred = np.squeeze(y_pred)\n",
    "    label = np.argpartition(y_pred, -10)[-10:]\n",
    "    #print(label)\n",
    "    label_encoder = load('le.joblib')\n",
    "    journal_list = label_encoder.inverse_transform(label)\n",
    "    #print(journal_pred)\n",
    "\n",
    "    return journal_list"
   ]
  },
  {
   "cell_type": "code",
   "execution_count": 3,
   "metadata": {},
   "outputs": [
    {
     "name": "stdout",
     "output_type": "stream",
     "text": [
      "['new review of hypermedia and multimedia' 'health systems'\n",
      " 'journal of decision systems'\n",
      " 'journal of experimental and theoretical artificial intelligence'\n",
      " 'european journal of engineering education'\n",
      " 'australasian journal of engineering education' 'engineering studies'\n",
      " 'journal of management analytics'\n",
      " 'international journal of computers and applications'\n",
      " 'cybernetics and systems']\n"
     ]
    }
   ],
   "source": [
    "paper_title = 'Machine Learning for engineering journal selection'\n",
    "key_words = 'machine learning engineering recommendation system'\n",
    "\n",
    "journal_list = journal_pred(paper_title, key_words)\n",
    "print(journal_list)"
   ]
  }
 ],
 "metadata": {
  "interpreter": {
   "hash": "529e36e1378429dda5c99be933159a9a31db7b687bd9df21d84667e73cc56be7"
  },
  "kernelspec": {
   "display_name": "Python 3.7.3 ('base')",
   "language": "python",
   "name": "python3"
  },
  "language_info": {
   "codemirror_mode": {
    "name": "ipython",
    "version": 3
   },
   "file_extension": ".py",
   "mimetype": "text/x-python",
   "name": "python",
   "nbconvert_exporter": "python",
   "pygments_lexer": "ipython3",
   "version": "3.7.3"
  },
  "orig_nbformat": 4
 },
 "nbformat": 4,
 "nbformat_minor": 2
}
